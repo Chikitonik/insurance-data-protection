{
  "cells": [
    {
      "cell_type": "markdown",
      "metadata": {
        "toc": true,
        "id": "GNj7zV1aH_W9"
      },
      "source": [
        "<h1>Содержание<span class=\"tocSkip\"></span></h1>\n",
        "<div class=\"toc\"><ul class=\"toc-item\"><li><span><a href=\"#Загрузка-данных\" data-toc-modified-id=\"Загрузка-данных-1\"><span class=\"toc-item-num\">1&nbsp;&nbsp;</span>Загрузка данных</a></span><ul class=\"toc-item\"><li><span><a href=\"#Вывод\" data-toc-modified-id=\"Вывод-1.1\"><span class=\"toc-item-num\">1.1&nbsp;&nbsp;</span>Вывод</a></span></li></ul></li><li><span><a href=\"#Обучение-и-предсказание-модели\" data-toc-modified-id=\"Обучение-и-предсказание-модели-2\"><span class=\"toc-item-num\">2&nbsp;&nbsp;</span>Обучение и предсказание модели</a></span><ul class=\"toc-item\"><li><span><a href=\"#Вывод\" data-toc-modified-id=\"Вывод-2.1\"><span class=\"toc-item-num\">2.1&nbsp;&nbsp;</span>Вывод</a></span></li></ul></li><li><span><a href=\"#Умножение-матриц\" data-toc-modified-id=\"Умножение-матриц-3\"><span class=\"toc-item-num\">3&nbsp;&nbsp;</span>Умножение матриц</a></span><ul class=\"toc-item\"><li><span><a href=\"#Вывод\" data-toc-modified-id=\"Вывод-3.1\"><span class=\"toc-item-num\">3.1&nbsp;&nbsp;</span>Вывод</a></span></li></ul></li><li><span><a href=\"#Расчет-формул-и-анализ\" data-toc-modified-id=\"Расчет-формул-и-анализ-4\"><span class=\"toc-item-num\">4&nbsp;&nbsp;</span>Расчет формул и анализ</a></span><ul class=\"toc-item\"><li><span><a href=\"#Вывод\" data-toc-modified-id=\"Вывод-4.1\"><span class=\"toc-item-num\">4.1&nbsp;&nbsp;</span>Вывод</a></span></li></ul></li><li><span><a href=\"#Алгоритм-преобразования\" data-toc-modified-id=\"Алгоритм-преобразования-5\"><span class=\"toc-item-num\">5&nbsp;&nbsp;</span>Алгоритм преобразования</a></span><ul class=\"toc-item\"><li><span><a href=\"#Вывод\" data-toc-modified-id=\"Вывод-5.1\"><span class=\"toc-item-num\">5.1&nbsp;&nbsp;</span>Вывод</a></span></li></ul></li><li><span><a href=\"#Общий-вывод\" data-toc-modified-id=\"Общий-вывод-6\"><span class=\"toc-item-num\">6&nbsp;&nbsp;</span>Общий вывод</a></span></li></ul></div>"
      ]
    },
    {
      "cell_type": "markdown",
      "metadata": {
        "id": "XrRWGmShQHcw"
      },
      "source": [
        "# Защита персональных данных клиентов"
      ]
    },
    {
      "cell_type": "markdown",
      "metadata": {
        "id": "K0kNOLdYQHcx"
      },
      "source": [
        "Вам нужно защитить данные клиентов страховой компании «Хоть потоп». Разработайте такой метод преобразования данных, чтобы по ним было сложно восстановить персональную информацию. Обоснуйте корректность его работы.\n",
        "\n",
        "Нужно защитить данные, чтобы при преобразовании качество моделей машинного обучения не ухудшилось. Подбирать наилучшую модель не требуется."
      ]
    },
    {
      "cell_type": "markdown",
      "metadata": {
        "id": "nmQ5lDv4QHcx"
      },
      "source": [
        "## Загрузка данных"
      ]
    },
    {
      "cell_type": "code",
      "execution_count": null,
      "metadata": {
        "id": "N3mTzgn0QHcy"
      },
      "outputs": [],
      "source": [
        "import pandas as pd\n",
        "import numpy as np\n",
        "import re\n",
        "from sklearn.model_selection import train_test_split\n",
        "from sklearn.linear_model import LinearRegression\n",
        "from sklearn.metrics import r2_score"
      ]
    },
    {
      "cell_type": "code",
      "execution_count": null,
      "metadata": {
        "id": "4cFWLjcoQy7b"
      },
      "outputs": [],
      "source": [
        "# for google colab:\n",
        "from google.colab import drive\n",
        "drive.mount('/content/gdrive')\n",
        "\n",
        "df = pd.read_csv('/content/gdrive/MyDrive/colab_notebooks/10-insurance-data-protection/data/insurance.csv')\n"
      ]
    },
    {
      "cell_type": "code",
      "execution_count": null,
      "metadata": {
        "colab": {
          "base_uri": "https://localhost:8080/",
          "height": 206
        },
        "id": "vtvyHHo-Qt0o",
        "outputId": "5fa4e95b-2dc8-41b4-c661-62d4bdd84312"
      },
      "outputs": [
        {
          "data": {
            "text/html": [
              "<div>\n",
              "<style scoped>\n",
              "    .dataframe tbody tr th:only-of-type {\n",
              "        vertical-align: middle;\n",
              "    }\n",
              "\n",
              "    .dataframe tbody tr th {\n",
              "        vertical-align: top;\n",
              "    }\n",
              "\n",
              "    .dataframe thead th {\n",
              "        text-align: right;\n",
              "    }\n",
              "</style>\n",
              "<table border=\"1\" class=\"dataframe\">\n",
              "  <thead>\n",
              "    <tr style=\"text-align: right;\">\n",
              "      <th></th>\n",
              "      <th>Пол</th>\n",
              "      <th>Возраст</th>\n",
              "      <th>Зарплата</th>\n",
              "      <th>Члены семьи</th>\n",
              "      <th>Страховые выплаты</th>\n",
              "    </tr>\n",
              "  </thead>\n",
              "  <tbody>\n",
              "    <tr>\n",
              "      <td>0</td>\n",
              "      <td>1</td>\n",
              "      <td>41.0</td>\n",
              "      <td>49600.0</td>\n",
              "      <td>1</td>\n",
              "      <td>0</td>\n",
              "    </tr>\n",
              "    <tr>\n",
              "      <td>1</td>\n",
              "      <td>0</td>\n",
              "      <td>46.0</td>\n",
              "      <td>38000.0</td>\n",
              "      <td>1</td>\n",
              "      <td>1</td>\n",
              "    </tr>\n",
              "    <tr>\n",
              "      <td>2</td>\n",
              "      <td>0</td>\n",
              "      <td>29.0</td>\n",
              "      <td>21000.0</td>\n",
              "      <td>0</td>\n",
              "      <td>0</td>\n",
              "    </tr>\n",
              "    <tr>\n",
              "      <td>3</td>\n",
              "      <td>0</td>\n",
              "      <td>21.0</td>\n",
              "      <td>41700.0</td>\n",
              "      <td>2</td>\n",
              "      <td>0</td>\n",
              "    </tr>\n",
              "    <tr>\n",
              "      <td>4</td>\n",
              "      <td>1</td>\n",
              "      <td>28.0</td>\n",
              "      <td>26100.0</td>\n",
              "      <td>0</td>\n",
              "      <td>0</td>\n",
              "    </tr>\n",
              "  </tbody>\n",
              "</table>\n",
              "</div>"
            ],
            "text/plain": [
              "   Пол  Возраст  Зарплата  Члены семьи  Страховые выплаты\n",
              "0    1     41.0   49600.0            1                  0\n",
              "1    0     46.0   38000.0            1                  1\n",
              "2    0     29.0   21000.0            0                  0\n",
              "3    0     21.0   41700.0            2                  0\n",
              "4    1     28.0   26100.0            0                  0"
            ]
          },
          "execution_count": 3,
          "metadata": {},
          "output_type": "execute_result"
        }
      ],
      "source": [
        "df.head(5)"
      ]
    },
    {
      "cell_type": "code",
      "execution_count": null,
      "metadata": {
        "colab": {
          "base_uri": "https://localhost:8080/"
        },
        "id": "QlOqzNXxSs-I",
        "outputId": "8291a95e-1e8d-49a0-fa9d-64ddd6c8b3a4"
      },
      "outputs": [
        {
          "name": "stdout",
          "output_type": "stream",
          "text": [
            "<class 'pandas.core.frame.DataFrame'>\n",
            "RangeIndex: 5000 entries, 0 to 4999\n",
            "Data columns (total 5 columns):\n",
            "Пол                  5000 non-null int64\n",
            "Возраст              5000 non-null float64\n",
            "Зарплата             5000 non-null float64\n",
            "Члены семьи          5000 non-null int64\n",
            "Страховые выплаты    5000 non-null int64\n",
            "dtypes: float64(2), int64(3)\n",
            "memory usage: 195.4 KB\n"
          ]
        }
      ],
      "source": [
        "df.info()"
      ]
    },
    {
      "cell_type": "code",
      "execution_count": null,
      "metadata": {
        "colab": {
          "base_uri": "https://localhost:8080/"
        },
        "id": "SjFR6h7wT5zJ",
        "outputId": "7cda0f7f-0fb3-45b6-d201-f8451b7355cc"
      },
      "outputs": [
        {
          "data": {
            "text/plain": [
              "['пол', 'возраст', 'зарплата', 'члены_семьи', 'страховые_выплаты']"
            ]
          },
          "execution_count": 5,
          "metadata": {},
          "output_type": "execute_result"
        }
      ],
      "source": [
        "columns = df.columns\n",
        "columns_new = []\n",
        "for name in columns:\n",
        "  columns_new.append(re.sub(r'(?<!^)(?=[A-Z])', '_', name).lower().replace(\" \", \"_\"))\n",
        "columns_new"
      ]
    },
    {
      "cell_type": "code",
      "execution_count": null,
      "metadata": {
        "id": "_zM2pI_ZUAP4"
      },
      "outputs": [],
      "source": [
        "df.set_axis(columns_new, axis='columns', inplace=True)"
      ]
    },
    {
      "cell_type": "code",
      "execution_count": null,
      "metadata": {
        "colab": {
          "base_uri": "https://localhost:8080/"
        },
        "id": "ZMh7uc-iOyun",
        "outputId": "0d495425-de7e-4ea5-cb3a-1cf3dc3a4790"
      },
      "outputs": [
        {
          "data": {
            "text/plain": [
              "153"
            ]
          },
          "execution_count": 7,
          "metadata": {},
          "output_type": "execute_result"
        }
      ],
      "source": [
        "df.duplicated().sum()"
      ]
    },
    {
      "cell_type": "code",
      "execution_count": null,
      "metadata": {
        "id": "Du2Chj8GP7hX"
      },
      "outputs": [],
      "source": [
        "df = df.drop_duplicates()"
      ]
    },
    {
      "cell_type": "code",
      "execution_count": null,
      "metadata": {
        "colab": {
          "base_uri": "https://localhost:8080/"
        },
        "id": "0GeHpCG8PeEw",
        "outputId": "bd805a71-c3be-4db8-bf1e-a18a1d2ddb04"
      },
      "outputs": [
        {
          "data": {
            "text/plain": [
              "0    4284\n",
              "1     423\n",
              "2     114\n",
              "3      18\n",
              "4       7\n",
              "5       1\n",
              "Name: страховые_выплаты, dtype: int64"
            ]
          },
          "execution_count": 9,
          "metadata": {},
          "output_type": "execute_result"
        }
      ],
      "source": [
        "df['страховые_выплаты'].value_counts()"
      ]
    },
    {
      "cell_type": "code",
      "execution_count": null,
      "metadata": {
        "colab": {
          "base_uri": "https://localhost:8080/"
        },
        "id": "j9IFyu6NN6LZ",
        "outputId": "870848f1-b1e5-42bc-b41c-23a2e9ae5638"
      },
      "outputs": [
        {
          "data": {
            "text/plain": [
              "0    2431\n",
              "1    2416\n",
              "Name: пол, dtype: int64"
            ]
          },
          "execution_count": 10,
          "metadata": {},
          "output_type": "execute_result"
        }
      ],
      "source": [
        "df['пол'].value_counts()"
      ]
    },
    {
      "cell_type": "code",
      "execution_count": null,
      "metadata": {
        "colab": {
          "base_uri": "https://localhost:8080/",
          "height": 282
        },
        "id": "Rjrfr4dIRKoH",
        "outputId": "840b56f8-8492-426c-bd1d-25fd26500b9d"
      },
      "outputs": [
        {
          "data": {
            "text/plain": [
              "<matplotlib.axes._subplots.AxesSubplot at 0x7fc6e700c550>"
            ]
          },
          "execution_count": 11,
          "metadata": {},
          "output_type": "execute_result"
        },
        {
          "data": {
            "image/png": "[encoded data removed]",
            "text/plain": [
              "<Figure size 432x288 with 1 Axes>"
            ]
          },
          "metadata": {
            "needs_background": "light"
          },
          "output_type": "display_data"
        }
      ],
      "source": [
        "df['возраст'].hist()"
      ]
    },
    {
      "cell_type": "code",
      "execution_count": null,
      "metadata": {
        "colab": {
          "base_uri": "https://localhost:8080/"
        },
        "id": "I36DmpF5RZMH",
        "outputId": "a24d4320-914b-48c1-980f-47b589b9dece"
      },
      "outputs": [
        {
          "data": {
            "text/plain": [
              "1    1748\n",
              "0    1461\n",
              "2    1038\n",
              "3     437\n",
              "4     124\n",
              "5      32\n",
              "6       7\n",
              "Name: члены_семьи, dtype: int64"
            ]
          },
          "execution_count": 12,
          "metadata": {},
          "output_type": "execute_result"
        }
      ],
      "source": [
        "df['члены_семьи'].value_counts()"
      ]
    },
    {
      "cell_type": "markdown",
      "metadata": {
        "id": "rSpcayhkR7P3"
      },
      "source": [
        "### Вывод"
      ]
    },
    {
      "cell_type": "markdown",
      "metadata": {
        "id": "C4xSxBkPSiug"
      },
      "source": [
        "Наименования столбцов преобразованы к стилю питона, пропуски не найдены, ошибки в данных не найдены, дубликаты удалены"
      ]
    },
    {
      "cell_type": "markdown",
      "metadata": {
        "id": "F7zyZuULTYsk"
      },
      "source": [
        "## Обучение и предсказание модели"
      ]
    },
    {
      "cell_type": "code",
      "execution_count": null,
      "metadata": {
        "id": "MbsbSFkOTw98"
      },
      "outputs": [],
      "source": [
        "RANDOM = 12345"
      ]
    },
    {
      "cell_type": "code",
      "execution_count": null,
      "metadata": {
        "id": "sQcTXVgWU59J"
      },
      "outputs": [],
      "source": [
        "X_train, X_test, y_train, y_test = train_test_split(df.drop(['страховые_выплаты'], axis=True),\n",
        "                                                    df['страховые_выплаты'],\n",
        "                                                    test_size=0.33, random_state=RANDOM)"
      ]
    },
    {
      "cell_type": "code",
      "execution_count": null,
      "metadata": {
        "id": "I3e72gxZTOvh"
      },
      "outputs": [],
      "source": [
        "model = LinearRegression().fit(X_train, y_train)"
      ]
    },
    {
      "cell_type": "code",
      "execution_count": null,
      "metadata": {
        "id": "1zMiKTGoTVuA"
      },
      "outputs": [],
      "source": [
        "r2_simple_features = r2_score(y_test, model.predict(X_test))"
      ]
    },
    {
      "cell_type": "code",
      "execution_count": null,
      "metadata": {
        "colab": {
          "base_uri": "https://localhost:8080/"
        },
        "id": "YPdUQHaxyHjU",
        "outputId": "75e54afd-8257-4ea0-f1fd-37470383d67f"
      },
      "outputs": [
        {
          "data": {
            "text/plain": [
              "0.4346014673692796"
            ]
          },
          "execution_count": 17,
          "metadata": {},
          "output_type": "execute_result"
        }
      ],
      "source": [
        "r2_simple_features"
      ]
    },
    {
      "cell_type": "markdown",
      "metadata": {
        "id": "uUEKX81fTiiv"
      },
      "source": [
        "### Вывод"
      ]
    },
    {
      "cell_type": "markdown",
      "metadata": {
        "id": "zIiV6IcUTmr1"
      },
      "source": [
        "Модель обучена, значение R2 0,435"
      ]
    },
    {
      "cell_type": "markdown",
      "metadata": {
        "id": "rZjC1DkAQHcy"
      },
      "source": [
        "## Умножение матриц"
      ]
    },
    {
      "cell_type": "markdown",
      "metadata": {
        "id": "l1Lok3faUBXN"
      },
      "source": [
        "Проверка изменится ли значение R2 модели если признаки умножить на обратимую матрицу"
      ]
    },
    {
      "cell_type": "code",
      "execution_count": null,
      "metadata": {
        "id": "rf4l3zonxj5L"
      },
      "outputs": [],
      "source": [
        "matrix = np.random.normal(0, 1, size=(X_train.shape[1], X_train.shape[1]))"
      ]
    },
    {
      "cell_type": "markdown",
      "metadata": {
        "id": "aSoD2kjHH_XI"
      },
      "source": [
        "<div class=\"alert alert-block alert-info\">\n",
        "<b>Комментарий студента:</b> \n",
        "исправлено\n",
        "</div>"
      ]
    },
    {
      "cell_type": "code",
      "execution_count": null,
      "metadata": {
        "colab": {
          "base_uri": "https://localhost:8080/"
        },
        "id": "VnhFSjvBUcWV",
        "outputId": "e644ed14-cb97-48f3-e98f-5de5066cacf4"
      },
      "outputs": [
        {
          "data": {
            "text/plain": [
              "array([[ 1.16595126,  1.11517368, -0.46370469,  1.39439024],\n",
              "       [-0.29659102,  0.44886579, -0.74515906, -0.83000794],\n",
              "       [ 1.73139634,  0.70611843,  1.27900795,  1.14145051],\n",
              "       [ 1.06187948, -0.90415992,  0.82198751, -0.26141824]])"
            ]
          },
          "execution_count": 19,
          "metadata": {},
          "output_type": "execute_result"
        }
      ],
      "source": [
        "matrix"
      ]
    },
    {
      "cell_type": "code",
      "execution_count": null,
      "metadata": {
        "colab": {
          "base_uri": "https://localhost:8080/",
          "height": 143
        },
        "id": "_EmUmeZ8vWu0",
        "outputId": "fb1602dd-1e81-4fa6-d2ef-a1f6bc09f29c"
      },
      "outputs": [
        {
          "data": {
            "text/html": [
              "<div>\n",
              "<style scoped>\n",
              "    .dataframe tbody tr th:only-of-type {\n",
              "        vertical-align: middle;\n",
              "    }\n",
              "\n",
              "    .dataframe tbody tr th {\n",
              "        vertical-align: top;\n",
              "    }\n",
              "\n",
              "    .dataframe thead th {\n",
              "        text-align: right;\n",
              "    }\n",
              "</style>\n",
              "<table border=\"1\" class=\"dataframe\">\n",
              "  <thead>\n",
              "    <tr style=\"text-align: right;\">\n",
              "      <th></th>\n",
              "      <th>пол</th>\n",
              "      <th>возраст</th>\n",
              "      <th>зарплата</th>\n",
              "      <th>члены_семьи</th>\n",
              "    </tr>\n",
              "  </thead>\n",
              "  <tbody>\n",
              "    <tr>\n",
              "      <td>172</td>\n",
              "      <td>1</td>\n",
              "      <td>22.0</td>\n",
              "      <td>44700.0</td>\n",
              "      <td>2</td>\n",
              "    </tr>\n",
              "    <tr>\n",
              "      <td>1573</td>\n",
              "      <td>0</td>\n",
              "      <td>27.0</td>\n",
              "      <td>36600.0</td>\n",
              "      <td>2</td>\n",
              "    </tr>\n",
              "    <tr>\n",
              "      <td>4188</td>\n",
              "      <td>0</td>\n",
              "      <td>32.0</td>\n",
              "      <td>41900.0</td>\n",
              "      <td>2</td>\n",
              "    </tr>\n",
              "  </tbody>\n",
              "</table>\n",
              "</div>"
            ],
            "text/plain": [
              "      пол  возраст  зарплата  члены_семьи\n",
              "172     1     22.0   44700.0            2\n",
              "1573    0     27.0   36600.0            2\n",
              "4188    0     32.0   41900.0            2"
            ]
          },
          "execution_count": 20,
          "metadata": {},
          "output_type": "execute_result"
        }
      ],
      "source": [
        "X_train.head(3)"
      ]
    },
    {
      "cell_type": "markdown",
      "metadata": {
        "id": "JEVELoPUUmo0"
      },
      "source": [
        "Умножение тренировочных и тестовых данных на обратную матрицу"
      ]
    },
    {
      "cell_type": "code",
      "execution_count": null,
      "metadata": {
        "id": "JtNRh0C2ugM0"
      },
      "outputs": [],
      "source": [
        "X_train = X_train @ np.linalg.inv(matrix)"
      ]
    },
    {
      "cell_type": "code",
      "execution_count": null,
      "metadata": {
        "colab": {
          "base_uri": "https://localhost:8080/",
          "height": 143
        },
        "id": "Al2dP0ZvvUKt",
        "outputId": "1a7f7598-58ed-4ef6-be38-61311c0eef74"
      },
      "outputs": [
        {
          "data": {
            "text/html": [
              "<div>\n",
              "<style scoped>\n",
              "    .dataframe tbody tr th:only-of-type {\n",
              "        vertical-align: middle;\n",
              "    }\n",
              "\n",
              "    .dataframe tbody tr th {\n",
              "        vertical-align: top;\n",
              "    }\n",
              "\n",
              "    .dataframe thead th {\n",
              "        text-align: right;\n",
              "    }\n",
              "</style>\n",
              "<table border=\"1\" class=\"dataframe\">\n",
              "  <thead>\n",
              "    <tr style=\"text-align: right;\">\n",
              "      <th></th>\n",
              "      <th>0</th>\n",
              "      <th>1</th>\n",
              "      <th>2</th>\n",
              "      <th>3</th>\n",
              "    </tr>\n",
              "  </thead>\n",
              "  <tbody>\n",
              "    <tr>\n",
              "      <td>172</td>\n",
              "      <td>-32208.824312</td>\n",
              "      <td>-5100.536468</td>\n",
              "      <td>31608.987560</td>\n",
              "      <td>-17596.666719</td>\n",
              "    </tr>\n",
              "    <tr>\n",
              "      <td>1573</td>\n",
              "      <td>-26374.991214</td>\n",
              "      <td>-4171.147462</td>\n",
              "      <td>25887.101077</td>\n",
              "      <td>-14414.067616</td>\n",
              "    </tr>\n",
              "    <tr>\n",
              "      <td>4188</td>\n",
              "      <td>-30194.720374</td>\n",
              "      <td>-4774.201537</td>\n",
              "      <td>29636.579344</td>\n",
              "      <td>-16501.946115</td>\n",
              "    </tr>\n",
              "  </tbody>\n",
              "</table>\n",
              "</div>"
            ],
            "text/plain": [
              "                 0            1             2             3\n",
              "172  -32208.824312 -5100.536468  31608.987560 -17596.666719\n",
              "1573 -26374.991214 -4171.147462  25887.101077 -14414.067616\n",
              "4188 -30194.720374 -4774.201537  29636.579344 -16501.946115"
            ]
          },
          "execution_count": 25,
          "metadata": {},
          "output_type": "execute_result"
        }
      ],
      "source": [
        "X_train.head(3)"
      ]
    },
    {
      "cell_type": "code",
      "execution_count": null,
      "metadata": {
        "colab": {
          "base_uri": "https://localhost:8080/",
          "height": 143
        },
        "id": "-2EUTRnnZWQb",
        "outputId": "0466b744-3db2-4894-a2e1-66c94b6e9f19"
      },
      "outputs": [
        {
          "data": {
            "text/html": [
              "<div>\n",
              "<style scoped>\n",
              "    .dataframe tbody tr th:only-of-type {\n",
              "        vertical-align: middle;\n",
              "    }\n",
              "\n",
              "    .dataframe tbody tr th {\n",
              "        vertical-align: top;\n",
              "    }\n",
              "\n",
              "    .dataframe thead th {\n",
              "        text-align: right;\n",
              "    }\n",
              "</style>\n",
              "<table border=\"1\" class=\"dataframe\">\n",
              "  <thead>\n",
              "    <tr style=\"text-align: right;\">\n",
              "      <th></th>\n",
              "      <th>0</th>\n",
              "      <th>1</th>\n",
              "      <th>2</th>\n",
              "      <th>3</th>\n",
              "    </tr>\n",
              "  </thead>\n",
              "  <tbody>\n",
              "    <tr>\n",
              "      <td>172</td>\n",
              "      <td>1.000000e+00</td>\n",
              "      <td>22.0</td>\n",
              "      <td>44700.0</td>\n",
              "      <td>2.0</td>\n",
              "    </tr>\n",
              "    <tr>\n",
              "      <td>1573</td>\n",
              "      <td>-5.984020e-12</td>\n",
              "      <td>27.0</td>\n",
              "      <td>36600.0</td>\n",
              "      <td>2.0</td>\n",
              "    </tr>\n",
              "    <tr>\n",
              "      <td>4188</td>\n",
              "      <td>-8.874747e-12</td>\n",
              "      <td>32.0</td>\n",
              "      <td>41900.0</td>\n",
              "      <td>2.0</td>\n",
              "    </tr>\n",
              "  </tbody>\n",
              "</table>\n",
              "</div>"
            ],
            "text/plain": [
              "                 0     1        2    3\n",
              "172   1.000000e+00  22.0  44700.0  2.0\n",
              "1573 -5.984020e-12  27.0  36600.0  2.0\n",
              "4188 -8.874747e-12  32.0  41900.0  2.0"
            ]
          },
          "execution_count": 26,
          "metadata": {},
          "output_type": "execute_result"
        }
      ],
      "source": [
        "(X_train @ matrix).head(3)"
      ]
    },
    {
      "cell_type": "code",
      "execution_count": null,
      "metadata": {
        "id": "3nfpkro6uwJc"
      },
      "outputs": [],
      "source": [
        "X_test = X_test @ np.linalg.inv(matrix)"
      ]
    },
    {
      "cell_type": "markdown",
      "metadata": {
        "id": "9bitvmQPUzas"
      },
      "source": [
        "Обучение и проверка значения R2"
      ]
    },
    {
      "cell_type": "code",
      "execution_count": null,
      "metadata": {
        "id": "jVBIa6aXsWlM"
      },
      "outputs": [],
      "source": [
        "model = LinearRegression().fit(X_train, y_train)"
      ]
    },
    {
      "cell_type": "code",
      "execution_count": null,
      "metadata": {
        "id": "nZDD-Q3IsWlM"
      },
      "outputs": [],
      "source": [
        "r2_matrix_features = r2_score(y_test, model.predict(X_test))"
      ]
    },
    {
      "cell_type": "code",
      "execution_count": null,
      "metadata": {
        "colab": {
          "base_uri": "https://localhost:8080/"
        },
        "id": "dGpL4BloU6CV",
        "outputId": "ff723d35-52eb-455c-aab8-94aef6a26468"
      },
      "outputs": [
        {
          "data": {
            "text/plain": [
              "0.43460146736922534"
            ]
          },
          "execution_count": 30,
          "metadata": {},
          "output_type": "execute_result"
        }
      ],
      "source": [
        "r2_matrix_features"
      ]
    },
    {
      "cell_type": "code",
      "execution_count": null,
      "metadata": {
        "colab": {
          "base_uri": "https://localhost:8080/"
        },
        "id": "Zm8sSQdSyLjq",
        "outputId": "cc65a923-f22f-4e7e-ea45-a4c5fa74bb28"
      },
      "outputs": [
        {
          "data": {
            "text/plain": [
              "-0.0"
            ]
          },
          "execution_count": 31,
          "metadata": {},
          "output_type": "execute_result"
        }
      ],
      "source": [
        "(r2_matrix_features - r2_simple_features).round(5)"
      ]
    },
    {
      "cell_type": "markdown",
      "metadata": {
        "id": "fjDb_Yo_VlpV"
      },
      "source": [
        "Значение метрики R2 не изменилось после умножения признаков на обратную матрицу"
      ]
    },
    {
      "cell_type": "markdown",
      "metadata": {
        "id": "fgel8YRNXOGA"
      },
      "source": [
        "Проверка умножения на нулевую матрицу"
      ]
    },
    {
      "cell_type": "code",
      "execution_count": null,
      "metadata": {
        "id": "IyBwboYYYCpU"
      },
      "outputs": [],
      "source": [
        "X_train, X_test, y_train, y_test = train_test_split(df.drop(['страховые_выплаты'], axis=True),\n",
        "                                                    df['страховые_выплаты'],\n",
        "                                                    test_size=0.33, random_state=RANDOM)"
      ]
    },
    {
      "cell_type": "code",
      "execution_count": null,
      "metadata": {
        "id": "kfFbLayJV33W"
      },
      "outputs": [],
      "source": [
        "matrix_zeros = np.array([[0, 0, 0, 0],\n",
        "                         [0, 0, 0, 0],\n",
        "                         [0, 0, 0, 0],\n",
        "                         [0, 0, 0, 0]])"
      ]
    },
    {
      "cell_type": "code",
      "execution_count": null,
      "metadata": {
        "colab": {
          "base_uri": "https://localhost:8080/"
        },
        "id": "0IuGyXGiW_lk",
        "outputId": "e3ee04da-2fbc-4846-af21-1a80aa7bdb68"
      },
      "outputs": [
        {
          "name": "stdout",
          "output_type": "stream",
          "text": [
            "ошибка умножения\n"
          ]
        }
      ],
      "source": [
        "try:\n",
        "  X_train = X_train @ np.linalg.inv(matrix_zeros)\n",
        "except:\n",
        "  print('ошибка умножения')"
      ]
    },
    {
      "cell_type": "markdown",
      "metadata": {
        "id": "NvRefp82Xebz"
      },
      "source": [
        "Умножение на единичную матрицу"
      ]
    },
    {
      "cell_type": "code",
      "execution_count": null,
      "metadata": {
        "id": "4hgLTJRrYDXq"
      },
      "outputs": [],
      "source": [
        "X_train, X_test, y_train, y_test = train_test_split(df.drop(['страховые_выплаты'], axis=True),\n",
        "                                                    df['страховые_выплаты'],\n",
        "                                                    test_size=0.33, random_state=RANDOM)"
      ]
    },
    {
      "cell_type": "code",
      "execution_count": null,
      "metadata": {
        "colab": {
          "base_uri": "https://localhost:8080/",
          "height": 143
        },
        "id": "vD1mP3IkYHqa",
        "outputId": "145900dc-6a0a-4ec2-8751-eab01cd6e0af"
      },
      "outputs": [
        {
          "data": {
            "text/html": [
              "<div>\n",
              "<style scoped>\n",
              "    .dataframe tbody tr th:only-of-type {\n",
              "        vertical-align: middle;\n",
              "    }\n",
              "\n",
              "    .dataframe tbody tr th {\n",
              "        vertical-align: top;\n",
              "    }\n",
              "\n",
              "    .dataframe thead th {\n",
              "        text-align: right;\n",
              "    }\n",
              "</style>\n",
              "<table border=\"1\" class=\"dataframe\">\n",
              "  <thead>\n",
              "    <tr style=\"text-align: right;\">\n",
              "      <th></th>\n",
              "      <th>пол</th>\n",
              "      <th>возраст</th>\n",
              "      <th>зарплата</th>\n",
              "      <th>члены_семьи</th>\n",
              "    </tr>\n",
              "  </thead>\n",
              "  <tbody>\n",
              "    <tr>\n",
              "      <td>172</td>\n",
              "      <td>1</td>\n",
              "      <td>22.0</td>\n",
              "      <td>44700.0</td>\n",
              "      <td>2</td>\n",
              "    </tr>\n",
              "    <tr>\n",
              "      <td>1573</td>\n",
              "      <td>0</td>\n",
              "      <td>27.0</td>\n",
              "      <td>36600.0</td>\n",
              "      <td>2</td>\n",
              "    </tr>\n",
              "    <tr>\n",
              "      <td>4188</td>\n",
              "      <td>0</td>\n",
              "      <td>32.0</td>\n",
              "      <td>41900.0</td>\n",
              "      <td>2</td>\n",
              "    </tr>\n",
              "  </tbody>\n",
              "</table>\n",
              "</div>"
            ],
            "text/plain": [
              "      пол  возраст  зарплата  члены_семьи\n",
              "172     1     22.0   44700.0            2\n",
              "1573    0     27.0   36600.0            2\n",
              "4188    0     32.0   41900.0            2"
            ]
          },
          "execution_count": 36,
          "metadata": {},
          "output_type": "execute_result"
        }
      ],
      "source": [
        "X_train.head(3)"
      ]
    },
    {
      "cell_type": "code",
      "execution_count": null,
      "metadata": {
        "id": "wpkC2n25WiuE"
      },
      "outputs": [],
      "source": [
        "matrix_E = np.array([[1, 0, 0, 0],\n",
        "                     [0, 1, 0, 0],\n",
        "                     [0, 0, 1, 0],\n",
        "                     [0, 0, 0, 1]])"
      ]
    },
    {
      "cell_type": "code",
      "execution_count": null,
      "metadata": {
        "colab": {
          "base_uri": "https://localhost:8080/",
          "height": 143
        },
        "id": "Jp0AtzYbX9eU",
        "outputId": "769251bf-e20d-4cdd-80f4-6113c92539ed"
      },
      "outputs": [
        {
          "data": {
            "text/html": [
              "<div>\n",
              "<style scoped>\n",
              "    .dataframe tbody tr th:only-of-type {\n",
              "        vertical-align: middle;\n",
              "    }\n",
              "\n",
              "    .dataframe tbody tr th {\n",
              "        vertical-align: top;\n",
              "    }\n",
              "\n",
              "    .dataframe thead th {\n",
              "        text-align: right;\n",
              "    }\n",
              "</style>\n",
              "<table border=\"1\" class=\"dataframe\">\n",
              "  <thead>\n",
              "    <tr style=\"text-align: right;\">\n",
              "      <th></th>\n",
              "      <th>пол</th>\n",
              "      <th>возраст</th>\n",
              "      <th>зарплата</th>\n",
              "      <th>члены_семьи</th>\n",
              "    </tr>\n",
              "  </thead>\n",
              "  <tbody>\n",
              "    <tr>\n",
              "      <td>172</td>\n",
              "      <td>1</td>\n",
              "      <td>22.0</td>\n",
              "      <td>44700.0</td>\n",
              "      <td>2</td>\n",
              "    </tr>\n",
              "    <tr>\n",
              "      <td>1573</td>\n",
              "      <td>0</td>\n",
              "      <td>27.0</td>\n",
              "      <td>36600.0</td>\n",
              "      <td>2</td>\n",
              "    </tr>\n",
              "    <tr>\n",
              "      <td>4188</td>\n",
              "      <td>0</td>\n",
              "      <td>32.0</td>\n",
              "      <td>41900.0</td>\n",
              "      <td>2</td>\n",
              "    </tr>\n",
              "  </tbody>\n",
              "</table>\n",
              "</div>"
            ],
            "text/plain": [
              "      пол  возраст  зарплата  члены_семьи\n",
              "172     1     22.0   44700.0            2\n",
              "1573    0     27.0   36600.0            2\n",
              "4188    0     32.0   41900.0            2"
            ]
          },
          "execution_count": 38,
          "metadata": {},
          "output_type": "execute_result"
        }
      ],
      "source": [
        "X_train.head(3)"
      ]
    },
    {
      "cell_type": "code",
      "execution_count": null,
      "metadata": {
        "id": "s7v5U8oXXttr"
      },
      "outputs": [],
      "source": [
        "X_train = X_train @ np.linalg.inv(matrix_E)"
      ]
    },
    {
      "cell_type": "code",
      "execution_count": null,
      "metadata": {
        "colab": {
          "base_uri": "https://localhost:8080/",
          "height": 143
        },
        "id": "KGnw7_EqX8vE",
        "outputId": "955bcf09-2972-4e8a-9269-bd40e5a7eb6c"
      },
      "outputs": [
        {
          "data": {
            "text/html": [
              "<div>\n",
              "<style scoped>\n",
              "    .dataframe tbody tr th:only-of-type {\n",
              "        vertical-align: middle;\n",
              "    }\n",
              "\n",
              "    .dataframe tbody tr th {\n",
              "        vertical-align: top;\n",
              "    }\n",
              "\n",
              "    .dataframe thead th {\n",
              "        text-align: right;\n",
              "    }\n",
              "</style>\n",
              "<table border=\"1\" class=\"dataframe\">\n",
              "  <thead>\n",
              "    <tr style=\"text-align: right;\">\n",
              "      <th></th>\n",
              "      <th>0</th>\n",
              "      <th>1</th>\n",
              "      <th>2</th>\n",
              "      <th>3</th>\n",
              "    </tr>\n",
              "  </thead>\n",
              "  <tbody>\n",
              "    <tr>\n",
              "      <td>172</td>\n",
              "      <td>1.0</td>\n",
              "      <td>22.0</td>\n",
              "      <td>44700.0</td>\n",
              "      <td>2.0</td>\n",
              "    </tr>\n",
              "    <tr>\n",
              "      <td>1573</td>\n",
              "      <td>0.0</td>\n",
              "      <td>27.0</td>\n",
              "      <td>36600.0</td>\n",
              "      <td>2.0</td>\n",
              "    </tr>\n",
              "    <tr>\n",
              "      <td>4188</td>\n",
              "      <td>0.0</td>\n",
              "      <td>32.0</td>\n",
              "      <td>41900.0</td>\n",
              "      <td>2.0</td>\n",
              "    </tr>\n",
              "  </tbody>\n",
              "</table>\n",
              "</div>"
            ],
            "text/plain": [
              "        0     1        2    3\n",
              "172   1.0  22.0  44700.0  2.0\n",
              "1573  0.0  27.0  36600.0  2.0\n",
              "4188  0.0  32.0  41900.0  2.0"
            ]
          },
          "execution_count": 40,
          "metadata": {},
          "output_type": "execute_result"
        }
      ],
      "source": [
        "X_train.head(3)"
      ]
    },
    {
      "cell_type": "markdown",
      "metadata": {
        "id": "JIOK2VFKVgjG"
      },
      "source": [
        "### Вывод"
      ]
    },
    {
      "cell_type": "markdown",
      "metadata": {
        "id": "lmol4d2TYQvq"
      },
      "source": [
        "После проведенных исследований получена следующая информация:\n",
        "- при умножении признаков на обратную случайную матрицу с нормальным распределением, показатели метрики R2 не меняются, по сравнению с показателями метрики у модели на непреобразованных данных\n",
        "  - если полученные признаки умножить на матрицу (и округлить до целых), то в результате получатся изначальные значения признаков\n",
        "- при попытке умножения на нулевую матрицу - ошибка\n",
        "- при умножении на единичную матрицу - данные не меняются"
      ]
    },
    {
      "cell_type": "markdown",
      "metadata": {
        "id": "Ah_534wsjHwv"
      },
      "source": [
        "## Расчет формул и анализ"
      ]
    },
    {
      "cell_type": "markdown",
      "metadata": {
        "id": "BnhTIL-ZQHcz"
      },
      "source": [
        "Формулы линейной регрессии"
      ]
    },
    {
      "cell_type": "markdown",
      "metadata": {
        "id": "rs9IqzvzQHc0"
      },
      "source": [
        "Обозначения:\n",
        "\n",
        "- $X$ — матрица признаков (нулевой столбец состоит из единиц)\n",
        "\n",
        "- $y$ — вектор целевого признака\n",
        "\n",
        "- $P$ — матрица, на которую умножаются признаки\n",
        "\n",
        "- $w$ — вектор весов линейной регрессии (нулевой элемент равен сдвигу)"
      ]
    },
    {
      "cell_type": "markdown",
      "metadata": {
        "id": "Og3zqA_LQHc0"
      },
      "source": [
        "Предсказания:\n",
        "\n",
        "$$\n",
        "a = Xw\n",
        "$$\n",
        "\n",
        "Задача обучения:\n",
        "\n",
        "$$\n",
        "w = \\arg\\min_w MSE(Xw, y)\n",
        "$$\n",
        "\n",
        "Формула обучения:\n",
        "\n",
        "$$\n",
        "w = (X^T X)^{-1} X^T y\n",
        "$$"
      ]
    },
    {
      "cell_type": "markdown",
      "metadata": {
        "id": "S8mme5-rfDXY"
      },
      "source": [
        "**Формулы линейной регрессии с умножением на обратную матрицу**"
      ]
    },
    {
      "cell_type": "markdown",
      "metadata": {
        "id": "Qp9tYkyxjVhe"
      },
      "source": [
        "Обозначения:\n",
        "\n",
        "- $A$ — произвольная, не нулевая, не единичная, квадратная матрица с шириной (и длиной) равной ширине матрицы признаков\n",
        "\n",
        "- $E$ — единичная матрица с длиной равной ширине матрицы признаков"
      ]
    },
    {
      "cell_type": "markdown",
      "metadata": {
        "id": "poAr3GocH_XQ"
      },
      "source": [
        "$$\n",
        "w_1 = ((A^{-1})^T X^T X A^{-1})^{-1} (X A^{-1})^T y\n",
        "$$"
      ]
    },
    {
      "cell_type": "markdown",
      "metadata": {
        "id": "yAfb_Wq6H_XQ"
      },
      "source": [
        "$$\n",
        "w_1 = ((A^{-1})^T X^T X A^{-1})^{-1} (A^{-1})^T X^T y\n",
        "$$"
      ]
    },
    {
      "cell_type": "markdown",
      "metadata": {
        "id": "JqjFuT5RH_XR"
      },
      "source": [
        "$$\n",
        "w_1 = ((A^{-1})^T (X^T X A^{-1}))^{-1} (A^{-1})^T X^T y\n",
        "$$"
      ]
    },
    {
      "cell_type": "markdown",
      "metadata": {
        "id": "UN1F5rAaH_XR"
      },
      "source": [
        "$$\n",
        "w_1 = (X^T X A^{-1})^{-1} ((A^{-1})^T)^{-1} (A^{-1})^T X^T y\n",
        "$$"
      ]
    },
    {
      "cell_type": "markdown",
      "metadata": {
        "id": "stx6gNMtH_XR"
      },
      "source": [
        "$$\n",
        "w_1 = (X^T X A^{-1})^{-1} E X^T y\n",
        "$$"
      ]
    },
    {
      "cell_type": "markdown",
      "metadata": {
        "id": "FXu0YLNzH_XR"
      },
      "source": [
        "$$\n",
        "w_1 = (X^T X A^{-1})^{-1} X^T y\n",
        "$$"
      ]
    },
    {
      "cell_type": "markdown",
      "metadata": {
        "id": "ILbBEN_FH_XR"
      },
      "source": [
        "$$\n",
        "w_1 = ((X^T X) A^{-1})^{-1} X^T y\n",
        "$$"
      ]
    },
    {
      "cell_type": "markdown",
      "metadata": {
        "id": "HMky8qSBH_XR"
      },
      "source": [
        "$$\n",
        "w_1 = (A^{-1})^{-1}(X^T X)^{-1} X^T y\n",
        "$$"
      ]
    },
    {
      "cell_type": "markdown",
      "metadata": {
        "id": "K8OBEaMyH_XR"
      },
      "source": [
        "$$\n",
        "w_1 = A(X^T X)^{-1} X^T y\n",
        "$$"
      ]
    },
    {
      "cell_type": "markdown",
      "metadata": {
        "id": "PGdLdEGQH_XR"
      },
      "source": [
        "$$\n",
        "w_1 = Aw\n",
        "$$"
      ]
    },
    {
      "cell_type": "markdown",
      "metadata": {
        "id": "1yS1QB1zH_XS"
      },
      "source": [
        "$$\n",
        "a_1 = X A^{-1}w_1 = ...\n",
        "$$"
      ]
    },
    {
      "cell_type": "markdown",
      "metadata": {
        "id": "dYZ20GdyH_XS"
      },
      "source": [
        "$$\n",
        "a_1 = X A^{-1} Aw\n",
        "$$"
      ]
    },
    {
      "cell_type": "markdown",
      "metadata": {
        "id": "3yWPcHNFH_XS"
      },
      "source": [
        "$$\n",
        "a_1 = XEw\n",
        "$$"
      ]
    },
    {
      "cell_type": "markdown",
      "metadata": {
        "id": "Sf1m_EqPH_XS"
      },
      "source": [
        "$$\n",
        "a_1 = Xw\n",
        "$$"
      ]
    },
    {
      "cell_type": "markdown",
      "metadata": {
        "id": "3LceEHG7H_XS"
      },
      "source": [
        "$$\n",
        "a_1 = a\n",
        "$$"
      ]
    },
    {
      "cell_type": "markdown",
      "metadata": {
        "id": "xrKRcGbolgte"
      },
      "source": [
        "### Вывод"
      ]
    },
    {
      "cell_type": "markdown",
      "metadata": {
        "id": "Xndz6nCdQHc1"
      },
      "source": [
        "- В результате умножения матрицы признаков X на обратную матрицу A и упрощения формулы, вектор весов линейной регрессии будет иметь такую же формулу, но умноженную на матрицу. В процессе сокращения образуется единичная матрица E (при умножении матрицы на обратную матрицу), а так как при умножении на единичную матрицу признаки не меняются, то ее можно отбросить. Итоговая формула имеет вид:\n",
        "$$\n",
        "w_1 = A(X^T X)^{-1} X^T y = Aw\n",
        "$$\n",
        "- Так как в формуле предсказания произведение вектора весов на матрицу признаков, то после сокращения формула будет иметь изначальный вид. В процессе сокращения также образуется единичная матрица и отбрасывается.\n",
        "$$\n",
        "a_1 = Xw = a\n",
        "$$\n",
        "- При этом должны соблюдаться условия: случайная матрица не должна быть нулевой или единичной"
      ]
    },
    {
      "cell_type": "markdown",
      "metadata": {
        "id": "uDkLLVbNQHc1"
      },
      "source": [
        "## Алгоритм преобразования"
      ]
    },
    {
      "cell_type": "markdown",
      "metadata": {
        "id": "g0SmEUN1zhdi"
      },
      "source": [
        "Функция умножения признаков на обратную матрицу"
      ]
    },
    {
      "cell_type": "code",
      "execution_count": null,
      "metadata": {
        "id": "Em5QM_LZmXce"
      },
      "outputs": [],
      "source": [
        "def df_multiplication_matrix (df_target_dropped):\n",
        "  matrix_len = df_target_dropped.shape[1]\n",
        "  matrix = np.random.normal(0, 1, size=(matrix_len, matrix_len))\n",
        "  return df_target_dropped @ np.linalg.inv(matrix), matrix"
      ]
    },
    {
      "cell_type": "markdown",
      "metadata": {
        "id": "FS1JVlAdzrdv"
      },
      "source": [
        "Функция умножения признаков на матрицу"
      ]
    },
    {
      "cell_type": "code",
      "execution_count": null,
      "metadata": {
        "id": "ZB_jWfmer1pT"
      },
      "outputs": [],
      "source": [
        "def df_multiplication_matrix_back (df_multiplicated, matrix):\n",
        "  return df_multiplicated @ matrix"
      ]
    },
    {
      "cell_type": "markdown",
      "metadata": {
        "id": "LPCx8p_4zt0H"
      },
      "source": [
        "Проверка значений в исходном и преобразованных df"
      ]
    },
    {
      "cell_type": "code",
      "execution_count": null,
      "metadata": {
        "colab": {
          "base_uri": "https://localhost:8080/",
          "height": 206
        },
        "id": "wnfqB_iesMdS",
        "outputId": "94df2280-8a6b-4674-f137-be6965fd8491"
      },
      "outputs": [
        {
          "data": {
            "text/html": [
              "<div>\n",
              "<style scoped>\n",
              "    .dataframe tbody tr th:only-of-type {\n",
              "        vertical-align: middle;\n",
              "    }\n",
              "\n",
              "    .dataframe tbody tr th {\n",
              "        vertical-align: top;\n",
              "    }\n",
              "\n",
              "    .dataframe thead th {\n",
              "        text-align: right;\n",
              "    }\n",
              "</style>\n",
              "<table border=\"1\" class=\"dataframe\">\n",
              "  <thead>\n",
              "    <tr style=\"text-align: right;\">\n",
              "      <th></th>\n",
              "      <th>пол</th>\n",
              "      <th>возраст</th>\n",
              "      <th>зарплата</th>\n",
              "      <th>члены_семьи</th>\n",
              "    </tr>\n",
              "  </thead>\n",
              "  <tbody>\n",
              "    <tr>\n",
              "      <td>0</td>\n",
              "      <td>1</td>\n",
              "      <td>41.0</td>\n",
              "      <td>49600.0</td>\n",
              "      <td>1</td>\n",
              "    </tr>\n",
              "    <tr>\n",
              "      <td>1</td>\n",
              "      <td>0</td>\n",
              "      <td>46.0</td>\n",
              "      <td>38000.0</td>\n",
              "      <td>1</td>\n",
              "    </tr>\n",
              "    <tr>\n",
              "      <td>2</td>\n",
              "      <td>0</td>\n",
              "      <td>29.0</td>\n",
              "      <td>21000.0</td>\n",
              "      <td>0</td>\n",
              "    </tr>\n",
              "    <tr>\n",
              "      <td>3</td>\n",
              "      <td>0</td>\n",
              "      <td>21.0</td>\n",
              "      <td>41700.0</td>\n",
              "      <td>2</td>\n",
              "    </tr>\n",
              "    <tr>\n",
              "      <td>4</td>\n",
              "      <td>1</td>\n",
              "      <td>28.0</td>\n",
              "      <td>26100.0</td>\n",
              "      <td>0</td>\n",
              "    </tr>\n",
              "  </tbody>\n",
              "</table>\n",
              "</div>"
            ],
            "text/plain": [
              "   пол  возраст  зарплата  члены_семьи\n",
              "0    1     41.0   49600.0            1\n",
              "1    0     46.0   38000.0            1\n",
              "2    0     29.0   21000.0            0\n",
              "3    0     21.0   41700.0            2\n",
              "4    1     28.0   26100.0            0"
            ]
          },
          "execution_count": 43,
          "metadata": {},
          "output_type": "execute_result"
        }
      ],
      "source": [
        "df.drop(['страховые_выплаты'], axis=1).head()"
      ]
    },
    {
      "cell_type": "code",
      "execution_count": null,
      "metadata": {
        "id": "k_klMjZYrHhi"
      },
      "outputs": [],
      "source": [
        "df_multiplicated, matrix = df_multiplication_matrix(df.drop(['страховые_выплаты'], axis=True))"
      ]
    },
    {
      "cell_type": "code",
      "execution_count": null,
      "metadata": {
        "colab": {
          "base_uri": "https://localhost:8080/",
          "height": 206
        },
        "id": "edVQGpHrrcrk",
        "outputId": "e5dbc11f-ff75-4077-a884-55bb85d4b991"
      },
      "outputs": [
        {
          "data": {
            "text/html": [
              "<div>\n",
              "<style scoped>\n",
              "    .dataframe tbody tr th:only-of-type {\n",
              "        vertical-align: middle;\n",
              "    }\n",
              "\n",
              "    .dataframe tbody tr th {\n",
              "        vertical-align: top;\n",
              "    }\n",
              "\n",
              "    .dataframe thead th {\n",
              "        text-align: right;\n",
              "    }\n",
              "</style>\n",
              "<table border=\"1\" class=\"dataframe\">\n",
              "  <thead>\n",
              "    <tr style=\"text-align: right;\">\n",
              "      <th></th>\n",
              "      <th>0</th>\n",
              "      <th>1</th>\n",
              "      <th>2</th>\n",
              "      <th>3</th>\n",
              "    </tr>\n",
              "  </thead>\n",
              "  <tbody>\n",
              "    <tr>\n",
              "      <td>0</td>\n",
              "      <td>-9909.267857</td>\n",
              "      <td>-5016.797573</td>\n",
              "      <td>39867.369092</td>\n",
              "      <td>14447.659698</td>\n",
              "    </tr>\n",
              "    <tr>\n",
              "      <td>1</td>\n",
              "      <td>-7596.079898</td>\n",
              "      <td>-3855.909159</td>\n",
              "      <td>30538.929116</td>\n",
              "      <td>11068.255928</td>\n",
              "    </tr>\n",
              "    <tr>\n",
              "      <td>2</td>\n",
              "      <td>-4198.423594</td>\n",
              "      <td>-2134.508151</td>\n",
              "      <td>16874.234638</td>\n",
              "      <td>6116.736022</td>\n",
              "    </tr>\n",
              "    <tr>\n",
              "      <td>3</td>\n",
              "      <td>-8328.336683</td>\n",
              "      <td>-4204.176570</td>\n",
              "      <td>33527.399572</td>\n",
              "      <td>12146.016464</td>\n",
              "    </tr>\n",
              "    <tr>\n",
              "      <td>4</td>\n",
              "      <td>-5215.612343</td>\n",
              "      <td>-2646.398673</td>\n",
              "      <td>20973.772150</td>\n",
              "      <td>7602.769125</td>\n",
              "    </tr>\n",
              "  </tbody>\n",
              "</table>\n",
              "</div>"
            ],
            "text/plain": [
              "             0            1             2             3\n",
              "0 -9909.267857 -5016.797573  39867.369092  14447.659698\n",
              "1 -7596.079898 -3855.909159  30538.929116  11068.255928\n",
              "2 -4198.423594 -2134.508151  16874.234638   6116.736022\n",
              "3 -8328.336683 -4204.176570  33527.399572  12146.016464\n",
              "4 -5215.612343 -2646.398673  20973.772150   7602.769125"
            ]
          },
          "execution_count": 45,
          "metadata": {},
          "output_type": "execute_result"
        }
      ],
      "source": [
        "df_multiplicated.head()"
      ]
    },
    {
      "cell_type": "code",
      "execution_count": null,
      "metadata": {
        "id": "_UvXFzbZsBKk"
      },
      "outputs": [],
      "source": [
        "df_multiplicated = df_multiplication_matrix_back(df_multiplicated, matrix)"
      ]
    },
    {
      "cell_type": "code",
      "execution_count": null,
      "metadata": {
        "id": "qlJnQGuoymJx"
      },
      "outputs": [],
      "source": [
        "df_multiplicated[[0, 3]] = df_multiplicated[[0, 3]].round().astype(int)"
      ]
    },
    {
      "cell_type": "code",
      "execution_count": null,
      "metadata": {
        "colab": {
          "base_uri": "https://localhost:8080/",
          "height": 206
        },
        "id": "JU_FvxfXsH9a",
        "outputId": "e8a85e82-f7eb-43c6-8a75-859adebd05f7"
      },
      "outputs": [
        {
          "data": {
            "text/html": [
              "<div>\n",
              "<style scoped>\n",
              "    .dataframe tbody tr th:only-of-type {\n",
              "        vertical-align: middle;\n",
              "    }\n",
              "\n",
              "    .dataframe tbody tr th {\n",
              "        vertical-align: top;\n",
              "    }\n",
              "\n",
              "    .dataframe thead th {\n",
              "        text-align: right;\n",
              "    }\n",
              "</style>\n",
              "<table border=\"1\" class=\"dataframe\">\n",
              "  <thead>\n",
              "    <tr style=\"text-align: right;\">\n",
              "      <th></th>\n",
              "      <th>0</th>\n",
              "      <th>1</th>\n",
              "      <th>2</th>\n",
              "      <th>3</th>\n",
              "    </tr>\n",
              "  </thead>\n",
              "  <tbody>\n",
              "    <tr>\n",
              "      <td>0</td>\n",
              "      <td>1</td>\n",
              "      <td>41.0</td>\n",
              "      <td>49600.0</td>\n",
              "      <td>1</td>\n",
              "    </tr>\n",
              "    <tr>\n",
              "      <td>1</td>\n",
              "      <td>0</td>\n",
              "      <td>46.0</td>\n",
              "      <td>38000.0</td>\n",
              "      <td>1</td>\n",
              "    </tr>\n",
              "    <tr>\n",
              "      <td>2</td>\n",
              "      <td>0</td>\n",
              "      <td>29.0</td>\n",
              "      <td>21000.0</td>\n",
              "      <td>0</td>\n",
              "    </tr>\n",
              "    <tr>\n",
              "      <td>3</td>\n",
              "      <td>0</td>\n",
              "      <td>21.0</td>\n",
              "      <td>41700.0</td>\n",
              "      <td>2</td>\n",
              "    </tr>\n",
              "    <tr>\n",
              "      <td>4</td>\n",
              "      <td>1</td>\n",
              "      <td>28.0</td>\n",
              "      <td>26100.0</td>\n",
              "      <td>0</td>\n",
              "    </tr>\n",
              "  </tbody>\n",
              "</table>\n",
              "</div>"
            ],
            "text/plain": [
              "   0     1        2  3\n",
              "0  1  41.0  49600.0  1\n",
              "1  0  46.0  38000.0  1\n",
              "2  0  29.0  21000.0  0\n",
              "3  0  21.0  41700.0  2\n",
              "4  1  28.0  26100.0  0"
            ]
          },
          "execution_count": 48,
          "metadata": {},
          "output_type": "execute_result"
        }
      ],
      "source": [
        "df_multiplicated.head()"
      ]
    },
    {
      "cell_type": "markdown",
      "metadata": {
        "id": "RZg4VdVyz7co"
      },
      "source": [
        "Сверка сумм"
      ]
    },
    {
      "cell_type": "code",
      "execution_count": null,
      "metadata": {
        "colab": {
          "base_uri": "https://localhost:8080/"
        },
        "id": "eR_WPpt4z9CQ",
        "outputId": "31919608-88f3-456a-ec33-dfaea07dcbe6"
      },
      "outputs": [
        {
          "data": {
            "text/plain": [
              "пол                 2416.0\n",
              "возраст           150373.0\n",
              "зарплата       193375000.0\n",
              "члены_семьи         5833.0\n",
              "dtype: float64"
            ]
          },
          "execution_count": 49,
          "metadata": {},
          "output_type": "execute_result"
        }
      ],
      "source": [
        "df.drop(['страховые_выплаты'], axis=1).sum()"
      ]
    },
    {
      "cell_type": "code",
      "execution_count": null,
      "metadata": {
        "colab": {
          "base_uri": "https://localhost:8080/"
        },
        "id": "evybH14J0HYo",
        "outputId": "06322391-ed8a-4258-9deb-15bee9865ae0"
      },
      "outputs": [
        {
          "data": {
            "text/plain": [
              "0         2416.0\n",
              "1       150373.0\n",
              "2    193375000.0\n",
              "3         5833.0\n",
              "dtype: float64"
            ]
          },
          "execution_count": 50,
          "metadata": {},
          "output_type": "execute_result"
        }
      ],
      "source": [
        "df_multiplicated.sum()"
      ]
    },
    {
      "cell_type": "markdown",
      "metadata": {
        "id": "2XZ1o_y00alJ"
      },
      "source": [
        "### Вывод"
      ]
    },
    {
      "cell_type": "markdown",
      "metadata": {
        "id": "IVc0jwuH0bsB"
      },
      "source": [
        "Созданы функции для преобразования (умножения на обратную матрицу) признаков дата фрейма и обратного преобразования (умножения на матрицу). Сумма по всем столбца до преобразования и после одинакова"
      ]
    },
    {
      "cell_type": "markdown",
      "metadata": {
        "id": "oONhZqor077g"
      },
      "source": [
        "## Общий вывод"
      ]
    },
    {
      "cell_type": "markdown",
      "metadata": {
        "id": "LhUeaCOk1TSo"
      },
      "source": [
        "- В загруженных данных наименования столбцов преобразованы к стилю питона, пропуски не найдены, ошибки в данных не найдены, дубликаты удалены\n",
        "- После проведенных исследований получена следующая информация:\n",
        "  - при умножении признаков на обратную случайную матрицу с нормальным распределением, показатели метрики R2 не меняются, по сравнению с показателями метрики у модели на непреобразованных данных\n",
        "    - если полученные признаки умножить на матрицу (и округлить до целых), то в результате получатся изначальные значения признаков\n",
        "  - при попытке умножения на нулевую матрицу - ошибка\n",
        "  - при умножении на единичную матрицу - данные не меняются\n",
        "- Приведены формулы, из которых видно, что, если умножить матрицу признаков на случайную квадратную матрицу такой же ширины, то формула предсказания модели не изменится. Случайная матрица не должна быть нулевой или единичной\n",
        "- Созданы функции для преобразования (умножения на обратную матрицу) признаков дата фрейма и обратного преобразования (умножения на матрицу). Сумма по всем столбца до преобразования и после одинакова"
      ]
    }
  ],
  "metadata": {
    "ExecuteTimeLog": [
      {
        "duration": 1309,
        "start_time": "2022-02-26T21:13:49.078Z"
      },
      {
        "duration": 54,
        "start_time": "2022-02-26T21:13:50.390Z"
      },
      {
        "duration": 21,
        "start_time": "2022-02-26T21:13:50.447Z"
      },
      {
        "duration": 10,
        "start_time": "2022-02-26T21:13:50.471Z"
      },
      {
        "duration": 7,
        "start_time": "2022-02-26T21:13:50.483Z"
      },
      {
        "duration": 6,
        "start_time": "2022-02-26T21:13:50.493Z"
      },
      {
        "duration": 11,
        "start_time": "2022-02-26T21:13:50.501Z"
      },
      {
        "duration": 9,
        "start_time": "2022-02-26T21:13:50.517Z"
      },
      {
        "duration": 52,
        "start_time": "2022-02-26T21:13:50.530Z"
      },
      {
        "duration": 10,
        "start_time": "2022-02-26T21:13:50.586Z"
      },
      {
        "duration": 561,
        "start_time": "2022-02-26T21:13:50.599Z"
      },
      {
        "duration": 21,
        "start_time": "2022-02-26T21:13:51.163Z"
      },
      {
        "duration": 4,
        "start_time": "2022-02-26T21:13:51.187Z"
      },
      {
        "duration": 10,
        "start_time": "2022-02-26T21:13:51.194Z"
      },
      {
        "duration": 8,
        "start_time": "2022-02-26T21:13:51.207Z"
      },
      {
        "duration": 8,
        "start_time": "2022-02-26T21:13:51.217Z"
      },
      {
        "duration": 13,
        "start_time": "2022-02-26T21:13:51.227Z"
      },
      {
        "duration": 42,
        "start_time": "2022-02-26T21:13:51.242Z"
      },
      {
        "duration": 12,
        "start_time": "2022-02-26T21:13:51.287Z"
      },
      {
        "duration": 13,
        "start_time": "2022-02-26T21:13:51.301Z"
      },
      {
        "duration": 7,
        "start_time": "2022-02-26T21:13:51.316Z"
      },
      {
        "duration": 62,
        "start_time": "2022-02-26T21:13:51.325Z"
      },
      {
        "duration": 92,
        "start_time": "2022-02-26T21:13:51.392Z"
      },
      {
        "duration": 10,
        "start_time": "2022-02-26T21:13:51.487Z"
      },
      {
        "duration": 83,
        "start_time": "2022-02-26T21:13:51.500Z"
      },
      {
        "duration": 10,
        "start_time": "2022-02-26T21:13:51.587Z"
      },
      {
        "duration": 83,
        "start_time": "2022-02-26T21:13:51.601Z"
      },
      {
        "duration": 5,
        "start_time": "2022-02-26T21:13:51.687Z"
      },
      {
        "duration": 12,
        "start_time": "2022-02-26T21:13:51.695Z"
      },
      {
        "duration": 8,
        "start_time": "2022-02-26T21:13:51.709Z"
      },
      {
        "duration": 9,
        "start_time": "2022-02-26T21:13:51.719Z"
      },
      {
        "duration": 13,
        "start_time": "2022-02-26T21:13:51.730Z"
      },
      {
        "duration": 47,
        "start_time": "2022-02-26T21:13:51.745Z"
      },
      {
        "duration": 10,
        "start_time": "2022-02-26T21:13:51.794Z"
      },
      {
        "duration": 11,
        "start_time": "2022-02-26T21:13:51.806Z"
      },
      {
        "duration": 11,
        "start_time": "2022-02-26T21:13:51.820Z"
      },
      {
        "duration": 18,
        "start_time": "2022-02-26T21:13:51.882Z"
      },
      {
        "duration": 84,
        "start_time": "2022-02-26T21:13:51.903Z"
      },
      {
        "duration": 6,
        "start_time": "2022-02-26T21:13:51.989Z"
      },
      {
        "duration": 18,
        "start_time": "2022-02-26T21:13:51.998Z"
      },
      {
        "duration": 10,
        "start_time": "2022-02-26T21:13:52.019Z"
      },
      {
        "duration": 57,
        "start_time": "2022-02-26T21:13:52.031Z"
      },
      {
        "duration": 6,
        "start_time": "2022-02-26T21:13:52.091Z"
      },
      {
        "duration": 85,
        "start_time": "2022-02-26T21:13:52.100Z"
      },
      {
        "duration": 12,
        "start_time": "2022-02-26T21:13:52.188Z"
      },
      {
        "duration": 14,
        "start_time": "2022-02-26T21:13:52.202Z"
      },
      {
        "duration": 9,
        "start_time": "2022-02-26T21:13:52.218Z"
      },
      {
        "duration": 92,
        "start_time": "2022-02-27T06:52:02.634Z"
      },
      {
        "duration": 300,
        "start_time": "2022-02-27T06:52:19.405Z"
      },
      {
        "duration": 251,
        "start_time": "2022-02-27T06:52:35.126Z"
      },
      {
        "duration": 3,
        "start_time": "2022-02-27T06:52:35.718Z"
      },
      {
        "duration": 362,
        "start_time": "2022-02-27T06:52:57.518Z"
      },
      {
        "duration": 9,
        "start_time": "2022-02-27T06:52:58.150Z"
      },
      {
        "duration": 975,
        "start_time": "2022-02-27T06:53:06.735Z"
      },
      {
        "duration": 88,
        "start_time": "2022-02-27T06:53:07.712Z"
      },
      {
        "duration": 15,
        "start_time": "2022-02-27T06:53:07.804Z"
      },
      {
        "duration": 27,
        "start_time": "2022-02-27T06:53:07.821Z"
      },
      {
        "duration": 12,
        "start_time": "2022-02-27T06:53:07.849Z"
      },
      {
        "duration": 15,
        "start_time": "2022-02-27T06:53:07.862Z"
      },
      {
        "duration": 30,
        "start_time": "2022-02-27T06:53:07.879Z"
      },
      {
        "duration": 24,
        "start_time": "2022-02-27T06:53:07.911Z"
      },
      {
        "duration": 17,
        "start_time": "2022-02-27T06:53:07.936Z"
      },
      {
        "duration": 19,
        "start_time": "2022-02-27T06:53:07.954Z"
      },
      {
        "duration": 283,
        "start_time": "2022-02-27T06:53:07.975Z"
      },
      {
        "duration": 5,
        "start_time": "2022-02-27T06:53:08.260Z"
      },
      {
        "duration": 3,
        "start_time": "2022-02-27T06:53:08.277Z"
      },
      {
        "duration": 42,
        "start_time": "2022-02-27T06:53:08.281Z"
      },
      {
        "duration": 19,
        "start_time": "2022-02-27T06:53:08.325Z"
      },
      {
        "duration": 11,
        "start_time": "2022-02-27T06:53:08.346Z"
      },
      {
        "duration": 15,
        "start_time": "2022-02-27T06:53:08.358Z"
      },
      {
        "duration": 11,
        "start_time": "2022-02-27T06:53:08.374Z"
      },
      {
        "duration": 23,
        "start_time": "2022-02-27T06:53:08.386Z"
      },
      {
        "duration": 22,
        "start_time": "2022-02-27T06:53:08.411Z"
      },
      {
        "duration": 26,
        "start_time": "2022-02-27T06:53:08.435Z"
      },
      {
        "duration": 32,
        "start_time": "2022-02-27T06:53:08.464Z"
      },
      {
        "duration": 23,
        "start_time": "2022-02-27T06:53:08.498Z"
      },
      {
        "duration": 62,
        "start_time": "2022-02-27T06:53:08.524Z"
      },
      {
        "duration": 90,
        "start_time": "2022-02-27T06:53:08.588Z"
      },
      {
        "duration": 26,
        "start_time": "2022-02-27T06:53:08.680Z"
      },
      {
        "duration": 69,
        "start_time": "2022-02-27T06:53:08.708Z"
      },
      {
        "duration": 100,
        "start_time": "2022-02-27T06:53:08.779Z"
      },
      {
        "duration": 4,
        "start_time": "2022-02-27T06:53:08.880Z"
      },
      {
        "duration": 31,
        "start_time": "2022-02-27T06:53:08.885Z"
      },
      {
        "duration": 23,
        "start_time": "2022-02-27T06:53:08.917Z"
      },
      {
        "duration": 25,
        "start_time": "2022-02-27T06:53:08.942Z"
      },
      {
        "duration": 18,
        "start_time": "2022-02-27T06:53:08.969Z"
      },
      {
        "duration": 19,
        "start_time": "2022-02-27T06:53:08.988Z"
      },
      {
        "duration": 39,
        "start_time": "2022-02-27T06:53:09.009Z"
      },
      {
        "duration": 14,
        "start_time": "2022-02-27T06:53:09.049Z"
      },
      {
        "duration": 36,
        "start_time": "2022-02-27T06:53:09.065Z"
      },
      {
        "duration": 17,
        "start_time": "2022-02-27T06:53:09.103Z"
      },
      {
        "duration": 64,
        "start_time": "2022-02-27T06:53:09.123Z"
      },
      {
        "duration": 5,
        "start_time": "2022-02-27T06:53:09.189Z"
      },
      {
        "duration": 83,
        "start_time": "2022-02-27T06:53:09.196Z"
      },
      {
        "duration": 19,
        "start_time": "2022-02-27T06:53:09.281Z"
      },
      {
        "duration": 7,
        "start_time": "2022-02-27T06:53:09.301Z"
      },
      {
        "duration": 71,
        "start_time": "2022-02-27T06:53:09.310Z"
      },
      {
        "duration": 12,
        "start_time": "2022-02-27T06:53:09.384Z"
      },
      {
        "duration": 7,
        "start_time": "2022-02-27T06:53:09.477Z"
      },
      {
        "duration": 33,
        "start_time": "2022-02-27T06:53:09.485Z"
      },
      {
        "duration": 16,
        "start_time": "2022-02-27T06:53:09.519Z"
      },
      {
        "duration": 19,
        "start_time": "2022-02-27T06:53:09.536Z"
      },
      {
        "duration": 1093,
        "start_time": "2022-02-27T06:54:04.914Z"
      },
      {
        "duration": 19,
        "start_time": "2022-02-27T06:54:06.009Z"
      },
      {
        "duration": 17,
        "start_time": "2022-02-27T06:54:06.031Z"
      },
      {
        "duration": 11,
        "start_time": "2022-02-27T06:54:06.050Z"
      },
      {
        "duration": 15,
        "start_time": "2022-02-27T06:54:06.063Z"
      },
      {
        "duration": 8,
        "start_time": "2022-02-27T06:54:06.080Z"
      },
      {
        "duration": 10,
        "start_time": "2022-02-27T06:54:06.090Z"
      },
      {
        "duration": 6,
        "start_time": "2022-02-27T06:54:06.102Z"
      },
      {
        "duration": 7,
        "start_time": "2022-02-27T06:54:06.110Z"
      },
      {
        "duration": 6,
        "start_time": "2022-02-27T06:54:06.119Z"
      },
      {
        "duration": 290,
        "start_time": "2022-02-27T06:54:06.126Z"
      },
      {
        "duration": 6,
        "start_time": "2022-02-27T06:54:06.417Z"
      },
      {
        "duration": 4,
        "start_time": "2022-02-27T06:54:06.424Z"
      },
      {
        "duration": 8,
        "start_time": "2022-02-27T06:54:06.430Z"
      },
      {
        "duration": 5,
        "start_time": "2022-02-27T06:54:06.440Z"
      },
      {
        "duration": 5,
        "start_time": "2022-02-27T06:54:06.447Z"
      },
      {
        "duration": 25,
        "start_time": "2022-02-27T06:54:06.454Z"
      },
      {
        "duration": 9,
        "start_time": "2022-02-27T06:54:06.481Z"
      },
      {
        "duration": 7,
        "start_time": "2022-02-27T06:54:06.492Z"
      },
      {
        "duration": 10,
        "start_time": "2022-02-27T06:54:06.500Z"
      },
      {
        "duration": 6,
        "start_time": "2022-02-27T06:54:06.512Z"
      },
      {
        "duration": 59,
        "start_time": "2022-02-27T06:54:06.520Z"
      },
      {
        "duration": 16,
        "start_time": "2022-02-27T06:54:06.584Z"
      },
      {
        "duration": 78,
        "start_time": "2022-02-27T06:54:06.602Z"
      },
      {
        "duration": 9,
        "start_time": "2022-02-27T06:54:06.682Z"
      },
      {
        "duration": 86,
        "start_time": "2022-02-27T06:54:06.693Z"
      },
      {
        "duration": 5,
        "start_time": "2022-02-27T06:54:06.780Z"
      },
      {
        "duration": 91,
        "start_time": "2022-02-27T06:54:06.787Z"
      },
      {
        "duration": 13,
        "start_time": "2022-02-27T06:54:06.880Z"
      },
      {
        "duration": 5,
        "start_time": "2022-02-27T06:54:06.895Z"
      },
      {
        "duration": 8,
        "start_time": "2022-02-27T06:54:06.901Z"
      },
      {
        "duration": 9,
        "start_time": "2022-02-27T06:54:06.910Z"
      },
      {
        "duration": 9,
        "start_time": "2022-02-27T06:54:06.920Z"
      },
      {
        "duration": 4,
        "start_time": "2022-02-27T06:54:06.930Z"
      },
      {
        "duration": 11,
        "start_time": "2022-02-27T06:54:06.936Z"
      },
      {
        "duration": 30,
        "start_time": "2022-02-27T06:54:06.948Z"
      },
      {
        "duration": 97,
        "start_time": "2022-02-27T06:54:06.981Z"
      },
      {
        "duration": 3,
        "start_time": "2022-02-27T06:54:07.080Z"
      },
      {
        "duration": 5,
        "start_time": "2022-02-27T06:54:07.085Z"
      },
      {
        "duration": 12,
        "start_time": "2022-02-27T06:54:07.092Z"
      },
      {
        "duration": 6,
        "start_time": "2022-02-27T06:54:07.106Z"
      },
      {
        "duration": 76,
        "start_time": "2022-02-27T06:54:07.114Z"
      },
      {
        "duration": 85,
        "start_time": "2022-02-27T06:54:07.192Z"
      },
      {
        "duration": 9,
        "start_time": "2022-02-27T06:54:07.279Z"
      },
      {
        "duration": 10,
        "start_time": "2022-02-27T06:54:07.289Z"
      },
      {
        "duration": 8,
        "start_time": "2022-02-27T06:54:07.301Z"
      },
      {
        "duration": 6,
        "start_time": "2022-02-27T06:54:07.310Z"
      },
      {
        "duration": 15,
        "start_time": "2022-02-27T06:57:54.333Z"
      },
      {
        "duration": 8,
        "start_time": "2022-02-27T06:58:01.561Z"
      },
      {
        "duration": 9,
        "start_time": "2022-02-27T06:58:22.461Z"
      },
      {
        "duration": 9,
        "start_time": "2022-02-27T06:58:53.179Z"
      },
      {
        "duration": 10,
        "start_time": "2022-02-27T06:59:35.013Z"
      },
      {
        "duration": 1088,
        "start_time": "2022-02-27T07:00:01.818Z"
      },
      {
        "duration": 17,
        "start_time": "2022-02-27T07:00:02.908Z"
      },
      {
        "duration": 34,
        "start_time": "2022-02-27T07:00:02.927Z"
      },
      {
        "duration": 6,
        "start_time": "2022-02-27T07:00:02.963Z"
      },
      {
        "duration": 10,
        "start_time": "2022-02-27T07:00:02.971Z"
      },
      {
        "duration": 11,
        "start_time": "2022-02-27T07:00:02.983Z"
      },
      {
        "duration": 15,
        "start_time": "2022-02-27T07:00:02.995Z"
      },
      {
        "duration": 10,
        "start_time": "2022-02-27T07:00:03.013Z"
      },
      {
        "duration": 10,
        "start_time": "2022-02-27T07:00:03.025Z"
      },
      {
        "duration": 9,
        "start_time": "2022-02-27T07:00:03.037Z"
      },
      {
        "duration": 281,
        "start_time": "2022-02-27T07:00:03.047Z"
      },
      {
        "duration": 6,
        "start_time": "2022-02-27T07:00:03.329Z"
      },
      {
        "duration": 9,
        "start_time": "2022-02-27T07:00:03.337Z"
      },
      {
        "duration": 12,
        "start_time": "2022-02-27T07:00:03.347Z"
      },
      {
        "duration": 17,
        "start_time": "2022-02-27T07:00:03.360Z"
      },
      {
        "duration": 12,
        "start_time": "2022-02-27T07:00:03.379Z"
      },
      {
        "duration": 76,
        "start_time": "2022-02-27T07:00:03.392Z"
      },
      {
        "duration": 18,
        "start_time": "2022-02-27T07:00:03.470Z"
      },
      {
        "duration": 17,
        "start_time": "2022-02-27T07:00:03.490Z"
      },
      {
        "duration": 18,
        "start_time": "2022-02-27T07:00:03.509Z"
      },
      {
        "duration": 14,
        "start_time": "2022-02-27T07:00:03.529Z"
      },
      {
        "duration": 9,
        "start_time": "2022-02-27T07:00:03.545Z"
      },
      {
        "duration": 4,
        "start_time": "2022-02-27T07:00:03.558Z"
      },
      {
        "duration": 22,
        "start_time": "2022-02-27T07:00:03.565Z"
      },
      {
        "duration": 95,
        "start_time": "2022-02-27T07:00:03.589Z"
      },
      {
        "duration": 10,
        "start_time": "2022-02-27T07:00:03.686Z"
      },
      {
        "duration": 82,
        "start_time": "2022-02-27T07:00:03.698Z"
      },
      {
        "duration": 7,
        "start_time": "2022-02-27T07:00:03.783Z"
      },
      {
        "duration": 85,
        "start_time": "2022-02-27T07:00:03.793Z"
      },
      {
        "duration": 5,
        "start_time": "2022-02-27T07:00:03.880Z"
      },
      {
        "duration": 37,
        "start_time": "2022-02-27T07:00:03.887Z"
      },
      {
        "duration": 30,
        "start_time": "2022-02-27T07:00:03.926Z"
      },
      {
        "duration": 17,
        "start_time": "2022-02-27T07:00:03.957Z"
      },
      {
        "duration": 36,
        "start_time": "2022-02-27T07:00:03.976Z"
      },
      {
        "duration": 41,
        "start_time": "2022-02-27T07:00:04.013Z"
      },
      {
        "duration": 44,
        "start_time": "2022-02-27T07:00:04.056Z"
      },
      {
        "duration": 24,
        "start_time": "2022-02-27T07:00:04.102Z"
      },
      {
        "duration": 13,
        "start_time": "2022-02-27T07:00:04.127Z"
      },
      {
        "duration": 44,
        "start_time": "2022-02-27T07:00:04.143Z"
      },
      {
        "duration": 3,
        "start_time": "2022-02-27T07:00:04.189Z"
      },
      {
        "duration": 83,
        "start_time": "2022-02-27T07:00:04.194Z"
      },
      {
        "duration": 30,
        "start_time": "2022-02-27T07:00:04.279Z"
      },
      {
        "duration": 32,
        "start_time": "2022-02-27T07:00:04.311Z"
      },
      {
        "duration": 37,
        "start_time": "2022-02-27T07:00:04.345Z"
      },
      {
        "duration": 94,
        "start_time": "2022-02-27T07:00:04.384Z"
      },
      {
        "duration": 32,
        "start_time": "2022-02-27T07:00:04.480Z"
      },
      {
        "duration": 35,
        "start_time": "2022-02-27T07:00:04.514Z"
      },
      {
        "duration": 21,
        "start_time": "2022-02-27T07:00:04.551Z"
      },
      {
        "duration": 28,
        "start_time": "2022-02-27T07:00:04.574Z"
      },
      {
        "duration": 16,
        "start_time": "2022-02-27T07:01:05.963Z"
      },
      {
        "duration": 1072,
        "start_time": "2022-02-27T07:01:39.529Z"
      },
      {
        "duration": 17,
        "start_time": "2022-02-27T07:01:40.602Z"
      },
      {
        "duration": 27,
        "start_time": "2022-02-27T07:01:40.621Z"
      },
      {
        "duration": 20,
        "start_time": "2022-02-27T07:01:40.649Z"
      },
      {
        "duration": 16,
        "start_time": "2022-02-27T07:01:40.670Z"
      },
      {
        "duration": 8,
        "start_time": "2022-02-27T07:01:40.688Z"
      },
      {
        "duration": 12,
        "start_time": "2022-02-27T07:01:40.698Z"
      },
      {
        "duration": 16,
        "start_time": "2022-02-27T07:01:40.712Z"
      },
      {
        "duration": 11,
        "start_time": "2022-02-27T07:01:40.730Z"
      },
      {
        "duration": 19,
        "start_time": "2022-02-27T07:01:40.742Z"
      },
      {
        "duration": 262,
        "start_time": "2022-02-27T07:01:40.763Z"
      },
      {
        "duration": 6,
        "start_time": "2022-02-27T07:01:41.027Z"
      },
      {
        "duration": 16,
        "start_time": "2022-02-27T07:01:41.034Z"
      },
      {
        "duration": 18,
        "start_time": "2022-02-27T07:01:41.052Z"
      },
      {
        "duration": 18,
        "start_time": "2022-02-27T07:01:41.072Z"
      },
      {
        "duration": 20,
        "start_time": "2022-02-27T07:01:41.092Z"
      },
      {
        "duration": 19,
        "start_time": "2022-02-27T07:01:41.114Z"
      },
      {
        "duration": 24,
        "start_time": "2022-02-27T07:01:41.135Z"
      },
      {
        "duration": 22,
        "start_time": "2022-02-27T07:01:41.161Z"
      },
      {
        "duration": 22,
        "start_time": "2022-02-27T07:01:41.185Z"
      },
      {
        "duration": 30,
        "start_time": "2022-02-27T07:01:41.208Z"
      },
      {
        "duration": 22,
        "start_time": "2022-02-27T07:01:41.241Z"
      },
      {
        "duration": 25,
        "start_time": "2022-02-27T07:01:41.267Z"
      },
      {
        "duration": 84,
        "start_time": "2022-02-27T07:01:41.295Z"
      },
      {
        "duration": 14,
        "start_time": "2022-02-27T07:01:41.382Z"
      },
      {
        "duration": 22,
        "start_time": "2022-02-27T07:01:41.478Z"
      },
      {
        "duration": 4,
        "start_time": "2022-02-27T07:01:41.501Z"
      },
      {
        "duration": 72,
        "start_time": "2022-02-27T07:01:41.508Z"
      },
      {
        "duration": 14,
        "start_time": "2022-02-27T07:01:41.582Z"
      },
      {
        "duration": 4,
        "start_time": "2022-02-27T07:01:41.677Z"
      },
      {
        "duration": 13,
        "start_time": "2022-02-27T07:01:41.683Z"
      },
      {
        "duration": 14,
        "start_time": "2022-02-27T07:01:41.698Z"
      },
      {
        "duration": 12,
        "start_time": "2022-02-27T07:01:41.714Z"
      },
      {
        "duration": 13,
        "start_time": "2022-02-27T07:01:41.728Z"
      },
      {
        "duration": 17,
        "start_time": "2022-02-27T07:01:41.743Z"
      },
      {
        "duration": 23,
        "start_time": "2022-02-27T07:01:41.762Z"
      },
      {
        "duration": 7,
        "start_time": "2022-02-27T07:01:41.787Z"
      },
      {
        "duration": 23,
        "start_time": "2022-02-27T07:01:41.796Z"
      },
      {
        "duration": 9,
        "start_time": "2022-02-27T07:01:41.820Z"
      },
      {
        "duration": 52,
        "start_time": "2022-02-27T07:01:41.831Z"
      },
      {
        "duration": 92,
        "start_time": "2022-02-27T07:01:41.885Z"
      },
      {
        "duration": 33,
        "start_time": "2022-02-27T07:01:41.979Z"
      },
      {
        "duration": 29,
        "start_time": "2022-02-27T07:01:42.014Z"
      },
      {
        "duration": 22,
        "start_time": "2022-02-27T07:01:42.045Z"
      },
      {
        "duration": 39,
        "start_time": "2022-02-27T07:01:42.069Z"
      },
      {
        "duration": 4,
        "start_time": "2022-02-27T07:01:42.179Z"
      },
      {
        "duration": 30,
        "start_time": "2022-02-27T07:01:42.185Z"
      },
      {
        "duration": 62,
        "start_time": "2022-02-27T07:01:42.217Z"
      },
      {
        "duration": 35,
        "start_time": "2022-02-27T07:01:42.281Z"
      },
      {
        "duration": 17,
        "start_time": "2022-02-27T07:01:42.318Z"
      },
      {
        "duration": 86,
        "start_time": "2022-02-27T07:15:03.721Z"
      },
      {
        "duration": 358,
        "start_time": "2022-02-27T07:15:09.071Z"
      },
      {
        "duration": 7,
        "start_time": "2022-02-27T07:15:43.604Z"
      },
      {
        "duration": 6,
        "start_time": "2022-02-27T07:15:50.493Z"
      },
      {
        "duration": 6,
        "start_time": "2022-02-27T07:18:16.262Z"
      },
      {
        "duration": 170,
        "start_time": "2022-02-27T10:12:29.650Z"
      },
      {
        "duration": 977,
        "start_time": "2022-02-27T10:12:42.250Z"
      },
      {
        "duration": 12,
        "start_time": "2022-02-27T10:12:43.229Z"
      },
      {
        "duration": 14,
        "start_time": "2022-02-27T10:12:43.243Z"
      },
      {
        "duration": 7,
        "start_time": "2022-02-27T10:12:43.259Z"
      },
      {
        "duration": 15,
        "start_time": "2022-02-27T10:12:43.267Z"
      },
      {
        "duration": 10,
        "start_time": "2022-02-27T10:12:43.284Z"
      },
      {
        "duration": 11,
        "start_time": "2022-02-27T10:12:43.295Z"
      },
      {
        "duration": 10,
        "start_time": "2022-02-27T10:12:43.309Z"
      },
      {
        "duration": 7,
        "start_time": "2022-02-27T10:12:43.322Z"
      },
      {
        "duration": 5,
        "start_time": "2022-02-27T10:12:43.338Z"
      },
      {
        "duration": 236,
        "start_time": "2022-02-27T10:12:43.345Z"
      },
      {
        "duration": 5,
        "start_time": "2022-02-27T10:12:43.583Z"
      },
      {
        "duration": 5,
        "start_time": "2022-02-27T10:12:43.590Z"
      },
      {
        "duration": 8,
        "start_time": "2022-02-27T10:12:43.596Z"
      },
      {
        "duration": 10,
        "start_time": "2022-02-27T10:12:43.605Z"
      },
      {
        "duration": 23,
        "start_time": "2022-02-27T10:12:43.616Z"
      },
      {
        "duration": 8,
        "start_time": "2022-02-27T10:12:43.640Z"
      },
      {
        "duration": 6,
        "start_time": "2022-02-27T10:12:43.649Z"
      },
      {
        "duration": 7,
        "start_time": "2022-02-27T10:12:43.656Z"
      },
      {
        "duration": 9,
        "start_time": "2022-02-27T10:12:43.665Z"
      },
      {
        "duration": 10,
        "start_time": "2022-02-27T10:12:43.675Z"
      },
      {
        "duration": 10,
        "start_time": "2022-02-27T10:12:43.687Z"
      },
      {
        "duration": 44,
        "start_time": "2022-02-27T10:12:43.700Z"
      },
      {
        "duration": 6,
        "start_time": "2022-02-27T10:12:43.746Z"
      },
      {
        "duration": 85,
        "start_time": "2022-02-27T10:12:43.754Z"
      },
      {
        "duration": 14,
        "start_time": "2022-02-27T10:12:43.841Z"
      },
      {
        "duration": 83,
        "start_time": "2022-02-27T10:12:43.857Z"
      },
      {
        "duration": 12,
        "start_time": "2022-02-27T10:12:43.943Z"
      },
      {
        "duration": 86,
        "start_time": "2022-02-27T10:12:43.957Z"
      },
      {
        "duration": 9,
        "start_time": "2022-02-27T10:12:44.045Z"
      },
      {
        "duration": 84,
        "start_time": "2022-02-27T10:12:44.056Z"
      },
      {
        "duration": 10,
        "start_time": "2022-02-27T10:12:44.141Z"
      },
      {
        "duration": 4,
        "start_time": "2022-02-27T10:12:44.153Z"
      },
      {
        "duration": 6,
        "start_time": "2022-02-27T10:12:44.158Z"
      },
      {
        "duration": 8,
        "start_time": "2022-02-27T10:12:44.165Z"
      },
      {
        "duration": 10,
        "start_time": "2022-02-27T10:12:44.174Z"
      },
      {
        "duration": 4,
        "start_time": "2022-02-27T10:12:44.185Z"
      },
      {
        "duration": 9,
        "start_time": "2022-02-27T10:12:44.191Z"
      },
      {
        "duration": 36,
        "start_time": "2022-02-27T10:12:44.202Z"
      },
      {
        "duration": 8,
        "start_time": "2022-02-27T10:12:44.240Z"
      },
      {
        "duration": 13,
        "start_time": "2022-02-27T10:12:44.249Z"
      },
      {
        "duration": 2,
        "start_time": "2022-02-27T10:12:44.338Z"
      },
      {
        "duration": 11,
        "start_time": "2022-02-27T10:12:44.342Z"
      },
      {
        "duration": 9,
        "start_time": "2022-02-27T10:12:44.355Z"
      },
      {
        "duration": 12,
        "start_time": "2022-02-27T10:12:44.366Z"
      },
      {
        "duration": 4,
        "start_time": "2022-02-27T10:12:44.438Z"
      },
      {
        "duration": 13,
        "start_time": "2022-02-27T10:12:44.443Z"
      },
      {
        "duration": 8,
        "start_time": "2022-02-27T10:12:44.537Z"
      },
      {
        "duration": 9,
        "start_time": "2022-02-27T10:12:44.547Z"
      },
      {
        "duration": 5,
        "start_time": "2022-02-27T10:12:44.557Z"
      },
      {
        "duration": 6,
        "start_time": "2022-02-27T10:12:44.563Z"
      },
      {
        "duration": 1234,
        "start_time": "2022-02-27T10:52:03.735Z"
      },
      {
        "duration": 20,
        "start_time": "2022-02-27T10:52:04.972Z"
      },
      {
        "duration": 22,
        "start_time": "2022-02-27T10:52:04.994Z"
      },
      {
        "duration": 8,
        "start_time": "2022-02-27T10:52:05.018Z"
      },
      {
        "duration": 13,
        "start_time": "2022-02-27T10:52:05.028Z"
      },
      {
        "duration": 8,
        "start_time": "2022-02-27T10:52:05.043Z"
      },
      {
        "duration": 10,
        "start_time": "2022-02-27T10:52:05.053Z"
      },
      {
        "duration": 4,
        "start_time": "2022-02-27T10:52:05.066Z"
      },
      {
        "duration": 7,
        "start_time": "2022-02-27T10:52:05.072Z"
      },
      {
        "duration": 12,
        "start_time": "2022-02-27T10:52:05.081Z"
      },
      {
        "duration": 264,
        "start_time": "2022-02-27T10:52:05.095Z"
      },
      {
        "duration": 6,
        "start_time": "2022-02-27T10:52:05.361Z"
      },
      {
        "duration": 5,
        "start_time": "2022-02-27T10:52:05.369Z"
      },
      {
        "duration": 9,
        "start_time": "2022-02-27T10:52:05.375Z"
      },
      {
        "duration": 11,
        "start_time": "2022-02-27T10:52:05.386Z"
      },
      {
        "duration": 13,
        "start_time": "2022-02-27T10:52:05.398Z"
      },
      {
        "duration": 12,
        "start_time": "2022-02-27T10:52:05.413Z"
      },
      {
        "duration": 13,
        "start_time": "2022-02-27T10:52:05.426Z"
      },
      {
        "duration": 8,
        "start_time": "2022-02-27T10:52:05.440Z"
      },
      {
        "duration": 10,
        "start_time": "2022-02-27T10:52:05.449Z"
      },
      {
        "duration": 11,
        "start_time": "2022-02-27T10:52:05.461Z"
      },
      {
        "duration": 12,
        "start_time": "2022-02-27T10:52:05.473Z"
      },
      {
        "duration": 52,
        "start_time": "2022-02-27T10:52:05.489Z"
      },
      {
        "duration": 7,
        "start_time": "2022-02-27T10:52:05.544Z"
      },
      {
        "duration": 91,
        "start_time": "2022-02-27T10:52:05.553Z"
      },
      {
        "duration": 9,
        "start_time": "2022-02-27T10:52:05.646Z"
      },
      {
        "duration": 8,
        "start_time": "2022-02-27T10:52:05.737Z"
      },
      {
        "duration": 8,
        "start_time": "2022-02-27T10:52:05.747Z"
      },
      {
        "duration": 80,
        "start_time": "2022-02-27T10:52:05.757Z"
      },
      {
        "duration": 4,
        "start_time": "2022-02-27T10:52:05.839Z"
      },
      {
        "duration": 10,
        "start_time": "2022-02-27T10:52:05.845Z"
      },
      {
        "duration": 94,
        "start_time": "2022-02-27T10:52:05.857Z"
      },
      {
        "duration": 8,
        "start_time": "2022-02-27T10:52:05.953Z"
      },
      {
        "duration": 12,
        "start_time": "2022-02-27T10:52:05.963Z"
      },
      {
        "duration": 13,
        "start_time": "2022-02-27T10:52:05.977Z"
      },
      {
        "duration": 16,
        "start_time": "2022-02-27T10:52:05.991Z"
      },
      {
        "duration": 7,
        "start_time": "2022-02-27T10:52:06.009Z"
      },
      {
        "duration": 13,
        "start_time": "2022-02-27T10:52:06.018Z"
      },
      {
        "duration": 12,
        "start_time": "2022-02-27T10:52:06.033Z"
      },
      {
        "duration": 18,
        "start_time": "2022-02-27T10:52:06.046Z"
      },
      {
        "duration": 3,
        "start_time": "2022-02-27T10:52:06.138Z"
      },
      {
        "duration": 12,
        "start_time": "2022-02-27T10:52:06.143Z"
      },
      {
        "duration": 87,
        "start_time": "2022-02-27T10:52:06.156Z"
      },
      {
        "duration": 9,
        "start_time": "2022-02-27T10:52:06.245Z"
      },
      {
        "duration": 84,
        "start_time": "2022-02-27T10:52:06.255Z"
      },
      {
        "duration": 13,
        "start_time": "2022-02-27T10:52:06.341Z"
      },
      {
        "duration": 85,
        "start_time": "2022-02-27T10:52:06.356Z"
      },
      {
        "duration": 8,
        "start_time": "2022-02-27T10:52:06.443Z"
      },
      {
        "duration": 9,
        "start_time": "2022-02-27T10:52:06.453Z"
      },
      {
        "duration": 6,
        "start_time": "2022-02-27T10:52:06.464Z"
      },
      {
        "duration": 6,
        "start_time": "2022-02-27T10:52:06.471Z"
      },
      {
        "duration": 69,
        "start_time": "2022-02-27T11:56:37.405Z"
      },
      {
        "duration": 75,
        "start_time": "2022-02-27T14:30:10.348Z"
      }
    ],
    "colab": {
      "collapsed_sections": [],
      "name": "for GitHub 10-insurance-data-protection-v2.ipynb",
      "provenance": [],
      "toc_visible": true
    },
    "kernelspec": {
      "display_name": "Python 3",
      "language": "python",
      "name": "python3"
    },
    "language_info": {
      "codemirror_mode": {
        "name": "ipython",
        "version": 3
      },
      "file_extension": ".py",
      "mimetype": "text/x-python",
      "name": "python",
      "nbconvert_exporter": "python",
      "pygments_lexer": "ipython3",
      "version": "3.7.8"
    },
    "toc": {
      "base_numbering": 1,
      "nav_menu": {},
      "number_sections": true,
      "sideBar": true,
      "skip_h1_title": true,
      "title_cell": "Содержание",
      "title_sidebar": "Contents",
      "toc_cell": true,
      "toc_position": {},
      "toc_section_display": true,
      "toc_window_display": true
    }
  },
  "nbformat": 4,
  "nbformat_minor": 0
}